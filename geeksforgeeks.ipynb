{
 "cells": [
  {
   "cell_type": "code",
   "execution_count": 79,
   "id": "f38a0c02",
   "metadata": {},
   "outputs": [],
   "source": [
    "import pandas as pd\n",
    "import numpy as np"
   ]
  },
  {
   "cell_type": "code",
   "execution_count": 80,
   "id": "5ac3964c",
   "metadata": {},
   "outputs": [],
   "source": [
    "df=pd.read_csv('C:\\\\Users\\\\Honey\\\\Documents\\\\datasets\\\\geeksforgeeks\\\\swiggy.csv')"
   ]
  },
  {
   "cell_type": "code",
   "execution_count": 81,
   "id": "4521ba3b",
   "metadata": {},
   "outputs": [
    {
     "data": {
      "text/html": [
       "<div>\n",
       "<style scoped>\n",
       "    .dataframe tbody tr th:only-of-type {\n",
       "        vertical-align: middle;\n",
       "    }\n",
       "\n",
       "    .dataframe tbody tr th {\n",
       "        vertical-align: top;\n",
       "    }\n",
       "\n",
       "    .dataframe thead th {\n",
       "        text-align: right;\n",
       "    }\n",
       "</style>\n",
       "<table border=\"1\" class=\"dataframe\">\n",
       "  <thead>\n",
       "    <tr style=\"text-align: right;\">\n",
       "      <th></th>\n",
       "      <th>id</th>\n",
       "      <th>name</th>\n",
       "      <th>city</th>\n",
       "      <th>rating</th>\n",
       "      <th>rating_count</th>\n",
       "      <th>cost</th>\n",
       "      <th>cuisine</th>\n",
       "      <th>lic_no</th>\n",
       "      <th>link</th>\n",
       "      <th>address</th>\n",
       "      <th>menu</th>\n",
       "    </tr>\n",
       "  </thead>\n",
       "  <tbody>\n",
       "    <tr>\n",
       "      <th>0</th>\n",
       "      <td>567335</td>\n",
       "      <td>AB FOODS POINT</td>\n",
       "      <td>Abohar</td>\n",
       "      <td>--</td>\n",
       "      <td>Too Few Ratings</td>\n",
       "      <td>₹ 200</td>\n",
       "      <td>Beverages,Pizzas</td>\n",
       "      <td>22122652000138</td>\n",
       "      <td>https://www.swiggy.com/restaurants/ab-foods-po...</td>\n",
       "      <td>AB FOODS POINT, NEAR RISHI NARANG DENTAL CLINI...</td>\n",
       "      <td>Menu/567335.json</td>\n",
       "    </tr>\n",
       "    <tr>\n",
       "      <th>1</th>\n",
       "      <td>531342</td>\n",
       "      <td>Janta Sweet House</td>\n",
       "      <td>Abohar</td>\n",
       "      <td>4.4</td>\n",
       "      <td>50+ ratings</td>\n",
       "      <td>₹ 200</td>\n",
       "      <td>Sweets,Bakery</td>\n",
       "      <td>12117201000112</td>\n",
       "      <td>https://www.swiggy.com/restaurants/janta-sweet...</td>\n",
       "      <td>Janta Sweet House, Bazar No.9, Circullar Road,...</td>\n",
       "      <td>Menu/531342.json</td>\n",
       "    </tr>\n",
       "    <tr>\n",
       "      <th>2</th>\n",
       "      <td>158203</td>\n",
       "      <td>theka coffee desi</td>\n",
       "      <td>Abohar</td>\n",
       "      <td>3.8</td>\n",
       "      <td>100+ ratings</td>\n",
       "      <td>₹ 100</td>\n",
       "      <td>Beverages</td>\n",
       "      <td>22121652000190</td>\n",
       "      <td>https://www.swiggy.com/restaurants/theka-coffe...</td>\n",
       "      <td>theka coffee desi, sahtiya sadan road city</td>\n",
       "      <td>Menu/158203.json</td>\n",
       "    </tr>\n",
       "    <tr>\n",
       "      <th>3</th>\n",
       "      <td>187912</td>\n",
       "      <td>Singh Hut</td>\n",
       "      <td>Abohar</td>\n",
       "      <td>3.7</td>\n",
       "      <td>20+ ratings</td>\n",
       "      <td>₹ 250</td>\n",
       "      <td>Fast Food,Indian</td>\n",
       "      <td>22119652000167</td>\n",
       "      <td>https://www.swiggy.com/restaurants/singh-hut-n...</td>\n",
       "      <td>Singh Hut, CIRCULAR ROAD NEAR NEHRU PARK ABOHAR</td>\n",
       "      <td>Menu/187912.json</td>\n",
       "    </tr>\n",
       "    <tr>\n",
       "      <th>4</th>\n",
       "      <td>543530</td>\n",
       "      <td>GRILL MASTERS</td>\n",
       "      <td>Abohar</td>\n",
       "      <td>--</td>\n",
       "      <td>Too Few Ratings</td>\n",
       "      <td>₹ 250</td>\n",
       "      <td>Italian-American,Fast Food</td>\n",
       "      <td>12122201000053</td>\n",
       "      <td>https://www.swiggy.com/restaurants/grill-maste...</td>\n",
       "      <td>GRILL MASTERS, ADA Heights, Abohar - Hanumanga...</td>\n",
       "      <td>Menu/543530.json</td>\n",
       "    </tr>\n",
       "    <tr>\n",
       "      <th>...</th>\n",
       "      <td>...</td>\n",
       "      <td>...</td>\n",
       "      <td>...</td>\n",
       "      <td>...</td>\n",
       "      <td>...</td>\n",
       "      <td>...</td>\n",
       "      <td>...</td>\n",
       "      <td>...</td>\n",
       "      <td>...</td>\n",
       "      <td>...</td>\n",
       "      <td>...</td>\n",
       "    </tr>\n",
       "    <tr>\n",
       "      <th>148536</th>\n",
       "      <td>553122</td>\n",
       "      <td>The Food Delight</td>\n",
       "      <td>Yavatmal</td>\n",
       "      <td>--</td>\n",
       "      <td>Too Few Ratings</td>\n",
       "      <td>₹ 200</td>\n",
       "      <td>Fast Food,Snacks</td>\n",
       "      <td>21522053000452</td>\n",
       "      <td>https://www.swiggy.com/restaurants/the-food-de...</td>\n",
       "      <td>The Food Delight, 94MC+X35, New Singhania Naga...</td>\n",
       "      <td>Menu/553122.json</td>\n",
       "    </tr>\n",
       "    <tr>\n",
       "      <th>148537</th>\n",
       "      <td>562647</td>\n",
       "      <td>MAITRI FOODS &amp; BEVERAGES</td>\n",
       "      <td>Yavatmal</td>\n",
       "      <td>--</td>\n",
       "      <td>Too Few Ratings</td>\n",
       "      <td>₹ 300</td>\n",
       "      <td>Pizzas</td>\n",
       "      <td>license</td>\n",
       "      <td>https://www.swiggy.com/restaurants/maitri-food...</td>\n",
       "      <td>MAITRI FOODS &amp; BEVERAGES, POLIC MITRYA SOCIETY...</td>\n",
       "      <td>Menu/562647.json</td>\n",
       "    </tr>\n",
       "    <tr>\n",
       "      <th>148538</th>\n",
       "      <td>559435</td>\n",
       "      <td>Cafe Bella Ciao</td>\n",
       "      <td>Yavatmal</td>\n",
       "      <td>--</td>\n",
       "      <td>Too Few Ratings</td>\n",
       "      <td>₹ 300</td>\n",
       "      <td>Fast Food,Snacks</td>\n",
       "      <td>21522251000378</td>\n",
       "      <td>https://www.swiggy.com/restaurants/cafe-bella-...</td>\n",
       "      <td>Cafe Bella Ciao, SHOP NO 2 NEMANI MARKET SBI S...</td>\n",
       "      <td>Menu/559435.json</td>\n",
       "    </tr>\n",
       "    <tr>\n",
       "      <th>148539</th>\n",
       "      <td>418989</td>\n",
       "      <td>GRILL ZILLA</td>\n",
       "      <td>Yavatmal</td>\n",
       "      <td>--</td>\n",
       "      <td>Too Few Ratings</td>\n",
       "      <td>₹ 250</td>\n",
       "      <td>Continental</td>\n",
       "      <td>21521251000241</td>\n",
       "      <td>https://www.swiggy.com/restaurants/grill-zilla...</td>\n",
       "      <td>GRILL ZILLA, SHO NO 2/6, POSTEL GROUND CHOWPAT...</td>\n",
       "      <td>Menu/418989.json</td>\n",
       "    </tr>\n",
       "    <tr>\n",
       "      <th>148540</th>\n",
       "      <td>447770</td>\n",
       "      <td>Lazeez kitchen</td>\n",
       "      <td>Yavatmal</td>\n",
       "      <td>--</td>\n",
       "      <td>Too Few Ratings</td>\n",
       "      <td>₹ 200</td>\n",
       "      <td>Pizzas</td>\n",
       "      <td>21521251000634</td>\n",
       "      <td>https://www.swiggy.com/restaurants/lazeez-kitc...</td>\n",
       "      <td>Lazeez kitchen, 94G3+2RR, Wadgaon, Yavatmal, M...</td>\n",
       "      <td>Menu/447770.json</td>\n",
       "    </tr>\n",
       "  </tbody>\n",
       "</table>\n",
       "<p>148541 rows × 11 columns</p>\n",
       "</div>"
      ],
      "text/plain": [
       "            id                      name      city rating     rating_count   \n",
       "0       567335            AB FOODS POINT    Abohar     --  Too Few Ratings  \\\n",
       "1       531342         Janta Sweet House    Abohar    4.4      50+ ratings   \n",
       "2       158203         theka coffee desi    Abohar    3.8     100+ ratings   \n",
       "3       187912                 Singh Hut    Abohar    3.7      20+ ratings   \n",
       "4       543530             GRILL MASTERS    Abohar     --  Too Few Ratings   \n",
       "...        ...                       ...       ...    ...              ...   \n",
       "148536  553122          The Food Delight  Yavatmal     --  Too Few Ratings   \n",
       "148537  562647  MAITRI FOODS & BEVERAGES  Yavatmal     --  Too Few Ratings   \n",
       "148538  559435           Cafe Bella Ciao  Yavatmal     --  Too Few Ratings   \n",
       "148539  418989               GRILL ZILLA  Yavatmal     --  Too Few Ratings   \n",
       "148540  447770            Lazeez kitchen  Yavatmal     --  Too Few Ratings   \n",
       "\n",
       "         cost                     cuisine          lic_no   \n",
       "0       ₹ 200            Beverages,Pizzas  22122652000138  \\\n",
       "1       ₹ 200               Sweets,Bakery  12117201000112   \n",
       "2       ₹ 100                   Beverages  22121652000190   \n",
       "3       ₹ 250            Fast Food,Indian  22119652000167   \n",
       "4       ₹ 250  Italian-American,Fast Food  12122201000053   \n",
       "...       ...                         ...             ...   \n",
       "148536  ₹ 200            Fast Food,Snacks  21522053000452   \n",
       "148537  ₹ 300                      Pizzas         license   \n",
       "148538  ₹ 300            Fast Food,Snacks  21522251000378   \n",
       "148539  ₹ 250                 Continental  21521251000241   \n",
       "148540  ₹ 200                      Pizzas  21521251000634   \n",
       "\n",
       "                                                     link   \n",
       "0       https://www.swiggy.com/restaurants/ab-foods-po...  \\\n",
       "1       https://www.swiggy.com/restaurants/janta-sweet...   \n",
       "2       https://www.swiggy.com/restaurants/theka-coffe...   \n",
       "3       https://www.swiggy.com/restaurants/singh-hut-n...   \n",
       "4       https://www.swiggy.com/restaurants/grill-maste...   \n",
       "...                                                   ...   \n",
       "148536  https://www.swiggy.com/restaurants/the-food-de...   \n",
       "148537  https://www.swiggy.com/restaurants/maitri-food...   \n",
       "148538  https://www.swiggy.com/restaurants/cafe-bella-...   \n",
       "148539  https://www.swiggy.com/restaurants/grill-zilla...   \n",
       "148540  https://www.swiggy.com/restaurants/lazeez-kitc...   \n",
       "\n",
       "                                                  address              menu  \n",
       "0       AB FOODS POINT, NEAR RISHI NARANG DENTAL CLINI...  Menu/567335.json  \n",
       "1       Janta Sweet House, Bazar No.9, Circullar Road,...  Menu/531342.json  \n",
       "2              theka coffee desi, sahtiya sadan road city  Menu/158203.json  \n",
       "3         Singh Hut, CIRCULAR ROAD NEAR NEHRU PARK ABOHAR  Menu/187912.json  \n",
       "4       GRILL MASTERS, ADA Heights, Abohar - Hanumanga...  Menu/543530.json  \n",
       "...                                                   ...               ...  \n",
       "148536  The Food Delight, 94MC+X35, New Singhania Naga...  Menu/553122.json  \n",
       "148537  MAITRI FOODS & BEVERAGES, POLIC MITRYA SOCIETY...  Menu/562647.json  \n",
       "148538  Cafe Bella Ciao, SHOP NO 2 NEMANI MARKET SBI S...  Menu/559435.json  \n",
       "148539  GRILL ZILLA, SHO NO 2/6, POSTEL GROUND CHOWPAT...  Menu/418989.json  \n",
       "148540  Lazeez kitchen, 94G3+2RR, Wadgaon, Yavatmal, M...  Menu/447770.json  \n",
       "\n",
       "[148541 rows x 11 columns]"
      ]
     },
     "execution_count": 81,
     "metadata": {},
     "output_type": "execute_result"
    }
   ],
   "source": [
    "df"
   ]
  },
  {
   "cell_type": "code",
   "execution_count": 82,
   "id": "91f7add5",
   "metadata": {},
   "outputs": [
    {
     "data": {
      "text/plain": [
       "id                0\n",
       "name             86\n",
       "city              0\n",
       "rating           86\n",
       "rating_count     86\n",
       "cost            131\n",
       "cuisine          99\n",
       "lic_no          229\n",
       "link              0\n",
       "address          86\n",
       "menu              0\n",
       "dtype: int64"
      ]
     },
     "execution_count": 82,
     "metadata": {},
     "output_type": "execute_result"
    }
   ],
   "source": [
    "df.isnull().sum()"
   ]
  },
  {
   "cell_type": "code",
   "execution_count": 83,
   "id": "d0719609",
   "metadata": {},
   "outputs": [
    {
     "data": {
      "text/html": [
       "<div>\n",
       "<style scoped>\n",
       "    .dataframe tbody tr th:only-of-type {\n",
       "        vertical-align: middle;\n",
       "    }\n",
       "\n",
       "    .dataframe tbody tr th {\n",
       "        vertical-align: top;\n",
       "    }\n",
       "\n",
       "    .dataframe thead th {\n",
       "        text-align: right;\n",
       "    }\n",
       "</style>\n",
       "<table border=\"1\" class=\"dataframe\">\n",
       "  <thead>\n",
       "    <tr style=\"text-align: right;\">\n",
       "      <th></th>\n",
       "      <th>id</th>\n",
       "    </tr>\n",
       "  </thead>\n",
       "  <tbody>\n",
       "    <tr>\n",
       "      <th>count</th>\n",
       "      <td>148541.000000</td>\n",
       "    </tr>\n",
       "    <tr>\n",
       "      <th>mean</th>\n",
       "      <td>363466.378912</td>\n",
       "    </tr>\n",
       "    <tr>\n",
       "      <th>std</th>\n",
       "      <td>167890.977174</td>\n",
       "    </tr>\n",
       "    <tr>\n",
       "      <th>min</th>\n",
       "      <td>211.000000</td>\n",
       "    </tr>\n",
       "    <tr>\n",
       "      <th>25%</th>\n",
       "      <td>233320.000000</td>\n",
       "    </tr>\n",
       "    <tr>\n",
       "      <th>50%</th>\n",
       "      <td>412628.000000</td>\n",
       "    </tr>\n",
       "    <tr>\n",
       "      <th>75%</th>\n",
       "      <td>502223.000000</td>\n",
       "    </tr>\n",
       "    <tr>\n",
       "      <th>max</th>\n",
       "      <td>581031.000000</td>\n",
       "    </tr>\n",
       "  </tbody>\n",
       "</table>\n",
       "</div>"
      ],
      "text/plain": [
       "                  id\n",
       "count  148541.000000\n",
       "mean   363466.378912\n",
       "std    167890.977174\n",
       "min       211.000000\n",
       "25%    233320.000000\n",
       "50%    412628.000000\n",
       "75%    502223.000000\n",
       "max    581031.000000"
      ]
     },
     "execution_count": 83,
     "metadata": {},
     "output_type": "execute_result"
    }
   ],
   "source": [
    "df.describe()"
   ]
  },
  {
   "cell_type": "code",
   "execution_count": 84,
   "id": "2ef09788",
   "metadata": {},
   "outputs": [
    {
     "name": "stdout",
     "output_type": "stream",
     "text": [
      "<class 'pandas.core.frame.DataFrame'>\n",
      "RangeIndex: 148541 entries, 0 to 148540\n",
      "Data columns (total 11 columns):\n",
      " #   Column        Non-Null Count   Dtype \n",
      "---  ------        --------------   ----- \n",
      " 0   id            148541 non-null  int64 \n",
      " 1   name          148455 non-null  object\n",
      " 2   city          148541 non-null  object\n",
      " 3   rating        148455 non-null  object\n",
      " 4   rating_count  148455 non-null  object\n",
      " 5   cost          148410 non-null  object\n",
      " 6   cuisine       148442 non-null  object\n",
      " 7   lic_no        148312 non-null  object\n",
      " 8   link          148541 non-null  object\n",
      " 9   address       148455 non-null  object\n",
      " 10  menu          148541 non-null  object\n",
      "dtypes: int64(1), object(10)\n",
      "memory usage: 12.5+ MB\n"
     ]
    }
   ],
   "source": [
    "df.info()"
   ]
  },
  {
   "cell_type": "code",
   "execution_count": 85,
   "id": "54deeb28",
   "metadata": {},
   "outputs": [
    {
     "data": {
      "text/plain": [
       "821"
      ]
     },
     "execution_count": 85,
     "metadata": {},
     "output_type": "execute_result"
    }
   ],
   "source": [
    "#1. Number of cities (including subregions) where swiggy is having their restaurants listed?\n",
    "len(df.groupby('city'))"
   ]
  },
  {
   "cell_type": "code",
   "execution_count": 86,
   "id": "5f3fab99",
   "metadata": {},
   "outputs": [
    {
     "data": {
      "text/plain": [
       "552"
      ]
     },
     "execution_count": 86,
     "metadata": {},
     "output_type": "execute_result"
    }
   ],
   "source": [
    "#2. Number of cities (don't include subregions) where swiggy is having their restaurants listed?\n",
    "df['city'].apply(lambda x: x.split(\",\")[-1]).nunique()"
   ]
  },
  {
   "cell_type": "code",
   "execution_count": 87,
   "id": "f6331f58",
   "metadata": {},
   "outputs": [
    {
     "data": {
      "text/plain": [
       "148541"
      ]
     },
     "execution_count": 87,
     "metadata": {},
     "output_type": "execute_result"
    }
   ],
   "source": [
    "#3.The Subregion of Delhi with the maximum number of restaurants listed on Swiggy?\n",
    "re=df['city']=='Delhi'\n",
    "re.count()"
   ]
  },
  {
   "cell_type": "code",
   "execution_count": 88,
   "id": "2a547030",
   "metadata": {},
   "outputs": [
    {
     "data": {
      "text/plain": [
       "111609                 Muzaffarpur\n",
       "100742             Aliganj,Lucknow\n",
       "40494      ECR-Kottivakkam,Chennai\n",
       "109636    Scruz Bandra East,Mumbai\n",
       "146288      Governorpet,Vijayawada\n",
       "Name: city, dtype: object"
      ]
     },
     "execution_count": 88,
     "metadata": {},
     "output_type": "execute_result"
    }
   ],
   "source": [
    "#4.Name the top 5 Most Expensive Cities in the Datasets.\n",
    "df.sort_values('cost')['city'].head(5)"
   ]
  },
  {
   "cell_type": "code",
   "execution_count": 89,
   "id": "5128bd22",
   "metadata": {},
   "outputs": [
    {
     "name": "stdout",
     "output_type": "stream",
     "text": [
      "Restaurant in Abohar with maximum rating: Begums Khansama\n"
     ]
    }
   ],
   "source": [
    "#5.List out the maximum and minimum ratings throughout the dataset.\n",
    "for name in df.sort_values(by='rating',ascending=False).head(1)['name']:\n",
    "    print(f\"Restaurant in Abohar with maximum rating: {name}\")"
   ]
  },
  {
   "cell_type": "code",
   "execution_count": 90,
   "id": "f91b4ab7",
   "metadata": {},
   "outputs": [
    {
     "name": "stdout",
     "output_type": "stream",
     "text": [
      "Bikaner\n",
      "Noida-1\n",
      "Indirapuram,Delhi\n",
      "BTM,Bangalore\n",
      "Rohini,Delhi\n"
     ]
    }
   ],
   "source": [
    "#6.Name of top 5 cities with the highest number of restaurants listed.\n",
    "for city in df['city'].value_counts().sort_values(ascending=False).head(5).index:\n",
    "    print(city)"
   ]
  },
  {
   "cell_type": "code",
   "execution_count": 91,
   "id": "86b101bf",
   "metadata": {},
   "outputs": [
    {
     "data": {
      "text/plain": [
       "0                      Bikaner\n",
       "1                      Noida-1\n",
       "2            Indirapuram,Delhi\n",
       "3                BTM,Bangalore\n",
       "4                 Rohini,Delhi\n",
       "5                 Kothrud,Pune\n",
       "6        Indiranagar,Bangalore\n",
       "7    Electronic City,Bangalore\n",
       "8      Greater Kailash 2,Delhi\n",
       "9                 Vashi,Mumbai\n",
       "Name: city, dtype: object"
      ]
     },
     "execution_count": 91,
     "metadata": {},
     "output_type": "execute_result"
    }
   ],
   "source": [
    "#7.Top 10 cities as per the number of restaurants listed?\n",
    "df.groupby('city')['name'].count().sort_values(ascending=False).reset_index().head(10)['city']  "
   ]
  },
  {
   "cell_type": "code",
   "execution_count": 72,
   "id": "40e2f0fc",
   "metadata": {},
   "outputs": [
    {
     "name": "stdout",
     "output_type": "stream",
     "text": [
      "Muzaffarpur\n",
      "Aliganj,Lucknow\n",
      "ECR-Kottivakkam,Chennai\n",
      "Scruz Bandra East,Mumbai\n",
      "Governorpet,Vijayawada\n"
     ]
    }
   ],
   "source": [
    "#8.Name the top 5 Most Popular Restaurants in Pune.\n",
    "df = df[['city','name','cost']]\n",
    "\n",
    "# Sorting the filtered dataset by cost \n",
    "df = df.sort_values(by='cost',ascending=True)\n",
    "\n",
    "# Findind the cities with least expensive restaurant in terms of cost\n",
    "for city in df[df['cost'] == \"₹ 1\"]['city'].head(5).values:\n",
    "    print(city)"
   ]
  },
  {
   "cell_type": "code",
   "execution_count": 97,
   "id": "4c2b5019",
   "metadata": {},
   "outputs": [],
   "source": [
    "#9.Which SubRegion in Delhi is having the least expensive restaurant in terms of cost?\n",
    "df = df[['city','name','cost']]\n",
    "\n",
    "# Sorting the filtered dataset by cost \n",
    "df = df.sort_values(by='cost',ascending=True)\n",
    "\n",
    "# Findind the cities with least expensive restaurant in terms of cost\n",
    "for city in df[df['city'] == \"Delhi\"]['city'].values:\n",
    "    print(city)"
   ]
  },
  {
   "cell_type": "code",
   "execution_count": 74,
   "id": "ce42fc90",
   "metadata": {},
   "outputs": [
    {
     "name": "stdout",
     "output_type": "stream",
     "text": [
      "Domino's Pizza\n",
      "Pizza Hut\n",
      "KFC\n",
      "Kwality Walls Frozen Dessert and Ice Cream Shop\n",
      "Baskin Robbins\n"
     ]
    }
   ],
   "source": [
    "#10.Top 5 most popular restaurant chains in India?\n",
    "for name in df['name'].value_counts().sort_values(ascending=False).head(5).index:\n",
    "    print(name)"
   ]
  },
  {
   "cell_type": "code",
   "execution_count": 94,
   "id": "e2df008a",
   "metadata": {},
   "outputs": [],
   "source": [
    "#11.Which restaurant in Pune has the most number of people visiting?\n",
    "df = df[df['city'] == 'Pune']\n",
    "\n",
    "# Fetching max rating restaurant name\n",
    "for name in df.sort_values(by='rating',ascending=False).head(1)['name']:\n",
    "    print(f\"Restaurant in Abohar with maximum rating: {name}\")"
   ]
  },
  {
   "cell_type": "code",
   "execution_count": 95,
   "id": "ef539748",
   "metadata": {},
   "outputs": [],
   "source": [
    "#12.Top 10 Restaurants with Maximum Ratings in Banglore\n",
    "df = df[df['city'] == 'Banglore']\n",
    "\n",
    "# Fetching max rating restaurant name\n",
    "for name in df.sort_values(by='rating',ascending=False).head(1)['name']:\n",
    "    print(f\"Restaurant in Abohar with maximum rating: {name}\")"
   ]
  },
  {
   "cell_type": "code",
   "execution_count": 96,
   "id": "eff03f33",
   "metadata": {},
   "outputs": [],
   "source": [
    "#13.Top 10 Restaurant in Patna w.r.t rating \n",
    "df = df[df['city'] == 'Patna']\n",
    "\n",
    "# Fetching max rating restaurant name\n",
    "for name in df.sort_values(by='rating',ascending=False).head(1)['name']:\n",
    "    print(f\"Restaurant in Abohar with maximum rating: {name}\")"
   ]
  },
  {
   "cell_type": "code",
   "execution_count": 43,
   "id": "cd407c55",
   "metadata": {},
   "outputs": [],
   "source": [
    " "
   ]
  },
  {
   "cell_type": "code",
   "execution_count": null,
   "id": "3562f60e",
   "metadata": {},
   "outputs": [],
   "source": [
    " "
   ]
  },
  {
   "cell_type": "code",
   "execution_count": null,
   "id": "5b655b19",
   "metadata": {},
   "outputs": [],
   "source": []
  }
 ],
 "metadata": {
  "kernelspec": {
   "display_name": "Python 3 (ipykernel)",
   "language": "python",
   "name": "python3"
  },
  "language_info": {
   "codemirror_mode": {
    "name": "ipython",
    "version": 3
   },
   "file_extension": ".py",
   "mimetype": "text/x-python",
   "name": "python",
   "nbconvert_exporter": "python",
   "pygments_lexer": "ipython3",
   "version": "3.11.2"
  }
 },
 "nbformat": 4,
 "nbformat_minor": 5
}
